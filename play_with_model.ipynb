{
  "nbformat": 4,
  "nbformat_minor": 0,
  "metadata": {
    "colab": {
      "name": "Play.ipynb",
      "provenance": []
    },
    "kernelspec": {
      "name": "python3",
      "display_name": "Python 3"
    },
    "language_info": {
      "name": "python"
    },
    "accelerator": "GPU"
  },
  "cells": [
    {
      "cell_type": "markdown",
      "metadata": {
        "id": "crPVEDSN71sl"
      },
      "source": [
        "<a href=\"https://colab.research.google.com/github/khamies/PianoNotes-LSTM-Generation/blob/master/play_with_model.ipynb\" \n",
        "target=\"_parent\"><img src=\"https://colab.research.google.com/assets/colab-badge.svg\" alt=\"Open In Colab\"/></a>\n"
      ]
    },
    {
      "cell_type": "code",
      "metadata": {
        "colab": {
          "base_uri": "https://localhost:8080/"
        },
        "id": "akHUDpl5RRWk",
        "outputId": "1d8548d8-de6c-490f-ccdb-15d3379841e5"
      },
      "source": [
        "#@title Download data and files.\n",
        "!git clone https://github.com/Khamies/PianoNotes-LSTM-Generation.git\n",
        "import os \n",
        "os.chdir(\"PianoNotes-LSTM-Generation\")"
      ],
      "execution_count": 1,
      "outputs": [
        {
          "output_type": "stream",
          "name": "stdout",
          "text": [
            "Cloning into 'PianoNotes-LSTM-Generation'...\n",
            "remote: Enumerating objects: 1106, done.\u001b[K\n",
            "remote: Counting objects: 100% (1106/1106), done.\u001b[K\n",
            "remote: Compressing objects: 100% (1070/1070), done.\u001b[K\n",
            "remote: Total 1106 (delta 39), reused 1095 (delta 32), pack-reused 0\u001b[K\n",
            "Receiving objects: 100% (1106/1106), 5.35 MiB | 28.98 MiB/s, done.\n",
            "Resolving deltas: 100% (39/39), done.\n"
          ]
        }
      ]
    },
    {
      "cell_type": "code",
      "metadata": {
        "id": "bsX47UMWT0NT"
      },
      "source": [
        "import os\n",
        "import sys\n",
        "import torch\n",
        "import numpy as np\n",
        "from google.colab import files\n",
        "from model import LSTM_Music\n",
        "from dataset import PianoGenerationDataset"
      ],
      "execution_count": 2,
      "outputs": []
    },
    {
      "cell_type": "code",
      "source": [
        "# !git clone https://github.com/SudharshanShanmugasundaram/Music-Generation.git\n",
        "# sys.path.append('./Music-Generation/midi')\n",
        "\n",
        "from utils.midi.midi_utils import midiread, midiwrite\n",
        "from matplotlib import pyplot as plt"
      ],
      "metadata": {
        "id": "veuuwsPUesKx"
      },
      "execution_count": 3,
      "outputs": []
    },
    {
      "cell_type": "code",
      "metadata": {
        "id": "u6QyBIaJWGLI"
      },
      "source": [
        "# Settings\n",
        "\n",
        "torch.manual_seed(1000)\n",
        "device = \"cuda\" if torch.cuda.is_available() else \"cpu\"\n",
        "\n",
        "batch_size = 32\n",
        "bptt = 60\n",
        "lr = 0.001\n",
        "\n",
        "embed_size = 300\n",
        "hidden_size = 256\n",
        "latent_size = 16\n",
        "lstm_layer=1\n",
        "notes_size = 88 #unique piano notes"
      ],
      "execution_count": 4,
      "outputs": []
    },
    {
      "cell_type": "markdown",
      "metadata": {
        "id": "GcXo1SRDfIVm"
      },
      "source": [
        "## Load the data"
      ]
    },
    {
      "cell_type": "code",
      "metadata": {
        "id": "k2uVseOtT_4J"
      },
      "source": [
        "trainset = PianoGenerationDataset('./data/Nottingham/train/', longest_sequence_length=None)\n",
        "testset = PianoGenerationDataset('./data/Nottingham/test/', longest_sequence_length=None)\n",
        "\n",
        "train_loader = torch.utils.data.DataLoader(trainset, batch_size=batch_size,shuffle=True, drop_last=True)\n",
        "test_loader = torch.utils.data.DataLoader(trainset, batch_size=batch_size,shuffle=True, drop_last=True)"
      ],
      "execution_count": 5,
      "outputs": []
    },
    {
      "cell_type": "markdown",
      "metadata": {
        "id": "mZ2jOq3se8-x"
      },
      "source": [
        "## Load the model"
      ]
    },
    {
      "cell_type": "code",
      "metadata": {
        "colab": {
          "base_uri": "https://localhost:8080/"
        },
        "id": "jw2_Fc_9Vhh5",
        "outputId": "156184aa-6bae-4f22-becd-435cbf5d68ca"
      },
      "source": [
        "vocab_size = notes_size\n",
        "model = LSTM_Music(vocab_size, embed_size, hidden_size, lstm_layer).to(device)\n",
        "\n",
        "checkpoint = torch.load(\"models/LSTM_Music.pt\")\n",
        "model.load_state_dict(checkpoint[\"model\"])"
      ],
      "execution_count": 6,
      "outputs": [
        {
          "output_type": "execute_result",
          "data": {
            "text/plain": [
              "<All keys matched successfully>"
            ]
          },
          "metadata": {},
          "execution_count": 6
        }
      ]
    },
    {
      "cell_type": "markdown",
      "metadata": {
        "id": "7s4CNs1J4otu"
      },
      "source": [
        "##Sample Generation"
      ]
    },
    {
      "cell_type": "code",
      "metadata": {
        "colab": {
          "base_uri": "https://localhost:8080/",
          "height": 17
        },
        "id": "PKhUHL_7Vg5X",
        "cellView": "code",
        "outputId": "57464286-7726-4f04-816b-6f338f8ae97e"
      },
      "source": [
        "# Use pitch_index to set the note value (pitch) for the initial note.\n",
        "\n",
        "samples = model.inference(n_samples=50 , pitch_index=53)\n",
        "samples = torch.stack(samples).squeeze(1).squeeze(1)\n",
        "  \n",
        "midiwrite(\"sample.midi\",samples) \n",
        "files.download(\"./sample.midi\")\n",
        "\n",
        "\n",
        "\n"
      ],
      "execution_count": 7,
      "outputs": [
        {
          "output_type": "display_data",
          "data": {
            "application/javascript": [
              "\n",
              "    async function download(id, filename, size) {\n",
              "      if (!google.colab.kernel.accessAllowed) {\n",
              "        return;\n",
              "      }\n",
              "      const div = document.createElement('div');\n",
              "      const label = document.createElement('label');\n",
              "      label.textContent = `Downloading \"${filename}\": `;\n",
              "      div.appendChild(label);\n",
              "      const progress = document.createElement('progress');\n",
              "      progress.max = size;\n",
              "      div.appendChild(progress);\n",
              "      document.body.appendChild(div);\n",
              "\n",
              "      const buffers = [];\n",
              "      let downloaded = 0;\n",
              "\n",
              "      const channel = await google.colab.kernel.comms.open(id);\n",
              "      // Send a message to notify the kernel that we're ready.\n",
              "      channel.send({})\n",
              "\n",
              "      for await (const message of channel.messages) {\n",
              "        // Send a message to notify the kernel that we're ready.\n",
              "        channel.send({})\n",
              "        if (message.buffers) {\n",
              "          for (const buffer of message.buffers) {\n",
              "            buffers.push(buffer);\n",
              "            downloaded += buffer.byteLength;\n",
              "            progress.value = downloaded;\n",
              "          }\n",
              "        }\n",
              "      }\n",
              "      const blob = new Blob(buffers, {type: 'application/binary'});\n",
              "      const a = document.createElement('a');\n",
              "      a.href = window.URL.createObjectURL(blob);\n",
              "      a.download = filename;\n",
              "      div.appendChild(a);\n",
              "      a.click();\n",
              "      div.remove();\n",
              "    }\n",
              "  "
            ],
            "text/plain": [
              "<IPython.core.display.Javascript object>"
            ]
          },
          "metadata": {}
        },
        {
          "output_type": "display_data",
          "data": {
            "application/javascript": [
              "download(\"download_f374c6e9-3c41-4fcb-a04b-aa608fb3d446\", \"sample.midi\", 288)"
            ],
            "text/plain": [
              "<IPython.core.display.Javascript object>"
            ]
          },
          "metadata": {}
        }
      ]
    },
    {
      "cell_type": "code",
      "metadata": {
        "id": "a_XvIj4l4QMi"
      },
      "source": [
        ""
      ],
      "execution_count": 7,
      "outputs": []
    }
  ]
}